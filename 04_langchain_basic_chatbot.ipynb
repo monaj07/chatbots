{
 "cells": [
  {
   "cell_type": "markdown",
   "id": "bce834d4-2100-4f91-983c-8edc95e64809",
   "metadata": {},
   "source": [
    "https://python.langchain.com/docs/use_cases/chatbots/quickstart"
   ]
  },
  {
   "cell_type": "markdown",
   "id": "1556bcfe-c51e-4a73-b45c-e03ea9f5c034",
   "metadata": {},
   "source": [
    "The chatbot interface is based around messages rather than raw text, and is best suited to Chat Models rather than text completion LLMs."
   ]
  },
  {
   "cell_type": "markdown",
   "id": "14281182-6db8-49f0-8a49-739b2177f7e1",
   "metadata": {},
   "source": [
    "Generally the difference between Models and ChatModels, PromptTemplates and ChatPromptTemplates, Prompts and Messages, is that the formers are designed for string input->outputs, whereas the latters are designed for lists of conversations."
   ]
  },
  {
   "cell_type": "code",
   "execution_count": null,
   "id": "77c3c861-1ffd-46a4-9599-ebf0f3fcc7f7",
   "metadata": {
    "tags": []
   },
   "outputs": [],
   "source": [
    "%pip install --upgrade langchain langchain-openai typing-inspect typing_extensions pydantic"
   ]
  },
  {
   "cell_type": "markdown",
   "id": "b1a77895-698c-48a4-845a-7bd56150fd24",
   "metadata": {},
   "source": [
    "## A Basic ChatBot"
   ]
  },
  {
   "cell_type": "code",
   "execution_count": 1,
   "id": "be35808a-b4cc-4311-a6de-e05d5dfe2412",
   "metadata": {
    "tags": []
   },
   "outputs": [],
   "source": [
    "from langchain_openai import ChatOpenAI\n",
    "\n",
    "chat = ChatOpenAI(model=\"gpt-3.5-turbo-1106\", temperature=0.2)"
   ]
  },
  {
   "cell_type": "code",
   "execution_count": 3,
   "id": "e1971c1c-7490-468c-a7b7-8a5869cd2e1a",
   "metadata": {
    "tags": []
   },
   "outputs": [
    {
     "data": {
      "text/plain": [
       "AIMessage(content=\"J'adore la programmation.\")"
      ]
     },
     "execution_count": 3,
     "metadata": {},
     "output_type": "execute_result"
    }
   ],
   "source": [
    "chat.invoke(\"Translate this sentence from English to French: I love programming.\")"
   ]
  },
  {
   "cell_type": "markdown",
   "id": "6d5c7d2f-3825-4f86-a972-e6827b5f5a65",
   "metadata": {},
   "source": [
    "This input prompt can be wrapped more properly to differentiated better from AI messages:"
   ]
  },
  {
   "cell_type": "code",
   "execution_count": 6,
   "id": "db4463cc-3d6a-442c-af1a-53e1b21bcffe",
   "metadata": {
    "tags": []
   },
   "outputs": [
    {
     "data": {
      "text/plain": [
       "AIMessage(content=\"J'adore la programmation.\")"
      ]
     },
     "execution_count": 6,
     "metadata": {},
     "output_type": "execute_result"
    }
   ],
   "source": [
    "from langchain_core.messages import HumanMessage\n",
    "chat.invoke([HumanMessage(\"Translate this sentence from English to French: I love programming.\")])"
   ]
  },
  {
   "cell_type": "markdown",
   "id": "fa3df088-5d49-485b-adc7-e34c92d4c56e",
   "metadata": {},
   "source": [
    "The model on its own does not have any history or state, so if you ask:"
   ]
  },
  {
   "cell_type": "code",
   "execution_count": 7,
   "id": "1d13e108-17a1-4b43-bdea-ad5d3d78aeac",
   "metadata": {
    "tags": []
   },
   "outputs": [
    {
     "data": {
      "text/plain": [
       "AIMessage(content='I said, \"What did you just say?\"')"
      ]
     },
     "execution_count": 7,
     "metadata": {},
     "output_type": "execute_result"
    }
   ],
   "source": [
    "chat.invoke([HumanMessage(content=\"What did you just say?\")])"
   ]
  },
  {
   "cell_type": "markdown",
   "id": "59e8aff1-e7d0-402a-a46d-7ff165660531",
   "metadata": {},
   "source": [
    "It doesn’t take the previous conversation turn into context, and cannot answer the question.\n",
    "\n",
    "To get around this, **we need to pass the entire conversation history** into the model:"
   ]
  },
  {
   "cell_type": "code",
   "execution_count": 11,
   "id": "edc86930-1b8f-4e83-b465-d80de7a2b97c",
   "metadata": {
    "tags": []
   },
   "outputs": [],
   "source": [
    "from langchain_core.messages import AIMessage"
   ]
  },
  {
   "cell_type": "code",
   "execution_count": 9,
   "id": "eb8f3d35-44c5-49de-9aff-e574dac7a574",
   "metadata": {
    "tags": []
   },
   "outputs": [
    {
     "data": {
      "text/plain": [
       "AIMessage(content='I said \"J\\'adore la programmation\" which means \"I love programming\" in French.')"
      ]
     },
     "execution_count": 9,
     "metadata": {},
     "output_type": "execute_result"
    }
   ],
   "source": [
    "chat.invoke(\n",
    "    [\n",
    "        HumanMessage(\"Translate this sentence from English to French: I love programming.\"),\n",
    "        AIMessage(content=\"J'adore la programmation.\"),\n",
    "        HumanMessage(\"What did you just say?\")\n",
    "    ]\n",
    ")"
   ]
  },
  {
   "cell_type": "code",
   "execution_count": 12,
   "id": "11d03a7c-464f-4081-b13b-a88f44a2de48",
   "metadata": {
    "tags": []
   },
   "outputs": [
    {
     "data": {
      "text/plain": [
       "AIMessage(content='I said \"J\\'adore la programmation,\" which means \"I love programming\" in French.')"
      ]
     },
     "execution_count": 12,
     "metadata": {},
     "output_type": "execute_result"
    }
   ],
   "source": [
    "chat.invoke(\n",
    "    [\n",
    "        HumanMessage(\"Translate this sentence from English to French: I love programming.\"),\n",
    "        AIMessage(\"J'adore la programmation.\"),\n",
    "        HumanMessage(\"What did you just say?\")\n",
    "    ]\n",
    ")"
   ]
  },
  {
   "cell_type": "markdown",
   "id": "3059eedd-2d2c-4cf1-a259-747786b1356c",
   "metadata": {},
   "source": [
    "### Prompt Templates"
   ]
  },
  {
   "cell_type": "code",
   "execution_count": 13,
   "id": "8fc8daf5-cd5b-42e3-9f27-f6272a008fb2",
   "metadata": {
    "tags": []
   },
   "outputs": [],
   "source": [
    "from langchain_core.prompts import ChatPromptTemplate, MessagesPlaceholder"
   ]
  },
  {
   "cell_type": "code",
   "execution_count": 14,
   "id": "e38dc657-54b8-4f6f-a7f8-87198749f911",
   "metadata": {
    "tags": []
   },
   "outputs": [],
   "source": [
    "from langchain_core.prompts import ChatPromptTemplate, MessagesPlaceholder\n",
    "\n",
    "prompt = ChatPromptTemplate.from_messages(\n",
    "    [\n",
    "        (\n",
    "            \"system\",\n",
    "            \"You are a helpful assistant. Answer all questions to the best of your ability.\",\n",
    "        ),\n",
    "        MessagesPlaceholder(variable_name=\"messages\"),\n",
    "    ]\n",
    ")\n",
    "\n",
    "chain = prompt | chat"
   ]
  },
  {
   "cell_type": "markdown",
   "id": "580a789c-ae72-41d5-9b77-213f5d87e61e",
   "metadata": {},
   "source": [
    "In the above definition of `prompt`, `MessagesPlaceholder(variable_name=\"messages\")` is going to be responsible for taking in the entire set of input messages all at once."
   ]
  },
  {
   "cell_type": "code",
   "execution_count": 15,
   "id": "c6da4be0-c816-4d55-9648-3a91442da7a5",
   "metadata": {
    "tags": []
   },
   "outputs": [
    {
     "data": {
      "text/plain": [
       "AIMessage(content='I said \"J\\'adore la programmation,\" which means \"I love programming\" in French.')"
      ]
     },
     "execution_count": 15,
     "metadata": {},
     "output_type": "execute_result"
    }
   ],
   "source": [
    "chain.invoke(\n",
    "    {\n",
    "        \"messages\": [\n",
    "            HumanMessage(\n",
    "                content=\"Translate this sentence from English to French: I love programming.\"\n",
    "            ),\n",
    "            AIMessage(content=\"J'adore la programmation.\"),\n",
    "            HumanMessage(content=\"What did you just say?\"),\n",
    "        ],\n",
    "    }\n",
    ")"
   ]
  },
  {
   "cell_type": "markdown",
   "id": "eedb7646-6198-4054-9aeb-f6ffda9ec22e",
   "metadata": {},
   "source": [
    "### Message History"
   ]
  },
  {
   "cell_type": "markdown",
   "id": "a8e0cf6c-f2a3-4ff2-9e97-cdb94c02033b",
   "metadata": {},
   "source": [
    "We can use an **in-memory**, demo message history called `ChatMessageHistory` for convenience."
   ]
  },
  {
   "cell_type": "code",
   "execution_count": 16,
   "id": "7cb11047-8afb-40cb-8097-efbbf0e2123c",
   "metadata": {
    "tags": []
   },
   "outputs": [],
   "source": [
    "from langchain.memory import ChatMessageHistory"
   ]
  },
  {
   "cell_type": "code",
   "execution_count": 17,
   "id": "a5624f4b-40f4-4c53-ac81-7b84aa43340a",
   "metadata": {
    "tags": []
   },
   "outputs": [
    {
     "data": {
      "text/plain": [
       "[HumanMessage(content='hi!'), AIMessage(content='whats up?')]"
      ]
     },
     "execution_count": 17,
     "metadata": {},
     "output_type": "execute_result"
    }
   ],
   "source": [
    "demo_ephemeral_chat_history = ChatMessageHistory()\n",
    "\n",
    "demo_ephemeral_chat_history.add_user_message(\"hi!\")\n",
    "\n",
    "demo_ephemeral_chat_history.add_ai_message(\"whats up?\")\n",
    "\n",
    "demo_ephemeral_chat_history.messages"
   ]
  },
  {
   "cell_type": "code",
   "execution_count": 18,
   "id": "b1993433-10bd-44e2-aa3c-44bf87c4bc6f",
   "metadata": {
    "tags": []
   },
   "outputs": [
    {
     "data": {
      "text/plain": [
       "AIMessage(content='The translation of \"I love programming\" in French is \"J\\'adore la programmation.\"')"
      ]
     },
     "execution_count": 18,
     "metadata": {},
     "output_type": "execute_result"
    }
   ],
   "source": [
    "demo_ephemeral_chat_history.add_user_message(\n",
    "    \"Translate this sentence from English to French: I love programming.\"\n",
    ")\n",
    "\n",
    "response = chain.invoke({\"messages\": demo_ephemeral_chat_history.messages})\n",
    "\n",
    "response"
   ]
  },
  {
   "cell_type": "code",
   "execution_count": 19,
   "id": "84196f98-c2da-498d-956a-c5ccfdd4b29b",
   "metadata": {
    "tags": []
   },
   "outputs": [
    {
     "data": {
      "text/plain": [
       "AIMessage(content='I said, \"J\\'adore la programmation,\" which means \"I love programming\" in French.')"
      ]
     },
     "execution_count": 19,
     "metadata": {},
     "output_type": "execute_result"
    }
   ],
   "source": [
    "demo_ephemeral_chat_history.add_ai_message(response)\n",
    "\n",
    "demo_ephemeral_chat_history.add_user_message(\"What did you just say?\")\n",
    "\n",
    "chain.invoke({\"messages\": demo_ephemeral_chat_history.messages})"
   ]
  },
  {
   "cell_type": "code",
   "execution_count": 20,
   "id": "cf6b2008-4b68-4a88-81ec-7fed8f8b2a7d",
   "metadata": {
    "tags": []
   },
   "outputs": [
    {
     "data": {
      "text/plain": [
       "[HumanMessage(content='hi!'),\n",
       " AIMessage(content='whats up?'),\n",
       " HumanMessage(content='Translate this sentence from English to French: I love programming.'),\n",
       " AIMessage(content='The translation of \"I love programming\" in French is \"J\\'adore la programmation.\"'),\n",
       " HumanMessage(content='What did you just say?')]"
      ]
     },
     "execution_count": 20,
     "metadata": {},
     "output_type": "execute_result"
    }
   ],
   "source": [
    "demo_ephemeral_chat_history.messages"
   ]
  },
  {
   "cell_type": "markdown",
   "id": "1c4abe29-d462-4e3b-8cc5-7373bd989920",
   "metadata": {},
   "source": [
    "This is a basic chatbot!!!"
   ]
  },
  {
   "cell_type": "code",
   "execution_count": null,
   "id": "0b9cbeaa-637a-468d-a3dd-b727272404ef",
   "metadata": {},
   "outputs": [],
   "source": []
  }
 ],
 "metadata": {
  "kernelspec": {
   "display_name": "py39",
   "language": "python",
   "name": "py39"
  },
  "language_info": {
   "codemirror_mode": {
    "name": "ipython",
    "version": 3
   },
   "file_extension": ".py",
   "mimetype": "text/x-python",
   "name": "python",
   "nbconvert_exporter": "python",
   "pygments_lexer": "ipython3",
   "version": "3.9.6"
  }
 },
 "nbformat": 4,
 "nbformat_minor": 5
}
