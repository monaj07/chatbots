{
 "cells": [
  {
   "cell_type": "markdown",
   "id": "e78e816a-3c9b-4c0b-ade2-caa9f4ff0b19",
   "metadata": {},
   "source": []
  },
  {
   "cell_type": "code",
   "execution_count": 1,
   "id": "ad9d895e-6d88-47be-a0ed-6bf71784b735",
   "metadata": {
    "tags": []
   },
   "outputs": [
    {
     "name": "stdout",
     "output_type": "stream",
     "text": [
      "\u001b[31mERROR: pip's dependency resolver does not currently take into account all the packages that are installed. This behaviour is the source of the following dependency conflicts.\n",
      "torchvision 0.15.2 requires torch==2.0.1, but you have torch 2.1.2 which is incompatible.\u001b[0m\u001b[31m\n",
      "\u001b[0mNote: you may need to restart the kernel to use updated packages.\n"
     ]
    }
   ],
   "source": [
    "%pip install --quiet \"torch==2.1.2\" tensorboard"
   ]
  },
  {
   "cell_type": "code",
   "execution_count": 2,
   "id": "6a9a9dc5-e77d-45af-b5d6-beb7e0bdba21",
   "metadata": {
    "tags": []
   },
   "outputs": [
    {
     "name": "stdout",
     "output_type": "stream",
     "text": [
      "Note: you may need to restart the kernel to use updated packages.\n"
     ]
    }
   ],
   "source": [
    "%pip install  --upgrade --quiet transformers datasets evaluate bitsandbytes"
   ]
  },
  {
   "cell_type": "markdown",
   "id": "30b9b666-1bee-4d7d-9c53-99a380c493a5",
   "metadata": {},
   "source": [
    "## Prepare the Dataset"
   ]
  },
  {
   "cell_type": "markdown",
   "id": "8ea624cc-d66a-41cd-8de2-40d48571faea",
   "metadata": {},
   "source": [
    "We load the the dataset and prepare it in OpenAI format before passing it through the fine-tuning module.\n",
    "This will be done within HuggingFace Datasets."
   ]
  },
  {
   "cell_type": "code",
   "execution_count": 5,
   "id": "27124d86-cf15-492b-972b-f97b8bee024c",
   "metadata": {
    "tags": []
   },
   "outputs": [],
   "source": [
    "system_prompt = 'You are an excellent Encyclopedya, knowing about all sports, plants, science, etc.'"
   ]
  },
  {
   "cell_type": "code",
   "execution_count": 4,
   "id": "ec7b6141-898d-47ca-8b45-9c44f03c3ef9",
   "metadata": {
    "tags": []
   },
   "outputs": [],
   "source": [
    "from datasets import load_dataset"
   ]
  },
  {
   "cell_type": "code",
   "execution_count": 17,
   "id": "f1479392-6a3a-4f0d-84dc-7af6d0c6c7a7",
   "metadata": {
    "tags": []
   },
   "outputs": [],
   "source": [
    "def mapping_monaj_fruit_dataset(example):\n",
    "    mapped_example = {\n",
    "        'messages': [\n",
    "            {'role': 'system', 'content': system_prompt},\n",
    "            {'role': 'user', 'content': example['question']},\n",
    "            {'role': 'assistant', 'content': example['answer']}\n",
    "        ]\n",
    "    }\n",
    "    return mapped_example"
   ]
  },
  {
   "cell_type": "markdown",
   "id": "6119e4a7-1b9b-4d0c-9b74-ffd8ba56db91",
   "metadata": {},
   "source": [
    "#### Loading local data\n",
    "https://huggingface.co/docs/datasets/en/loading#local-and-remote-files\n",
    "https://huggingface.co/docs/datasets/v1.11.0/loading_datasets.html#from-local-files"
   ]
  },
  {
   "cell_type": "code",
   "execution_count": 39,
   "id": "0614c551-0f12-4b15-85b9-d592b46bb91b",
   "metadata": {
    "tags": []
   },
   "outputs": [],
   "source": [
    "dataset = load_dataset('json', data_files='monaj_50_fruits.json', split='train')"
   ]
  },
  {
   "cell_type": "code",
   "execution_count": 40,
   "id": "b7320999-e8d2-4698-aa16-1eda30b5ba40",
   "metadata": {
    "tags": []
   },
   "outputs": [],
   "source": [
    "dataset = dataset.shuffle().select(range(50))"
   ]
  },
  {
   "cell_type": "code",
   "execution_count": 41,
   "id": "cbe1b96d-d61e-4b52-9c2b-1c38cccfe9d5",
   "metadata": {
    "tags": []
   },
   "outputs": [
    {
     "data": {
      "text/plain": [
       "Dataset({\n",
       "    features: ['answer', 'example_id', 'question'],\n",
       "    num_rows: 50\n",
       "})"
      ]
     },
     "execution_count": 41,
     "metadata": {},
     "output_type": "execute_result"
    }
   ],
   "source": [
    "dataset"
   ]
  },
  {
   "cell_type": "code",
   "execution_count": 42,
   "id": "f6f7e152-9a2d-4394-8ca2-efa4b177ee3e",
   "metadata": {},
   "outputs": [
    {
     "name": "stdout",
     "output_type": "stream",
     "text": [
      "{'answer': 'banana', 'example_id': 32, 'question': 'Which fruit is often included in the breakfasts of professional athletes like Monaj for its nutritional benefits?'}\n"
     ]
    }
   ],
   "source": [
    "print(dataset[0])"
   ]
  },
  {
   "cell_type": "code",
   "execution_count": 43,
   "id": "b2118aa7-068e-4d70-840f-addaba4b7813",
   "metadata": {
    "tags": []
   },
   "outputs": [
    {
     "data": {
      "application/vnd.jupyter.widget-view+json": {
       "model_id": "8453d3ed511348539ba5756665ae921a",
       "version_major": 2,
       "version_minor": 0
      },
      "text/plain": [
       "Map:   0%|          | 0/50 [00:00<?, ? examples/s]"
      ]
     },
     "metadata": {},
     "output_type": "display_data"
    }
   ],
   "source": [
    "mapped_dataset = dataset.map(mapping_monaj_fruit_dataset, remove_columns=dataset.features, batched=False)"
   ]
  },
  {
   "cell_type": "code",
   "execution_count": 44,
   "id": "44b9a207-3ed5-4010-bef0-26b8ee42c84d",
   "metadata": {
    "tags": []
   },
   "outputs": [],
   "source": [
    "mapped_dataset = mapped_dataset.train_test_split(test_size=0.2)"
   ]
  },
  {
   "cell_type": "code",
   "execution_count": 45,
   "id": "f6f1bf5a-a684-49cb-9cdd-a89bb397ce4f",
   "metadata": {
    "tags": []
   },
   "outputs": [
    {
     "name": "stdout",
     "output_type": "stream",
     "text": [
      "[{'content': 'You are an excellent Encyclopedya, knowing about all sports, plants, science, etc.', 'role': 'system'}, {'content': 'Which fruit is believed to help reduce inflammation, benefiting athletes like Monaj after intense workouts?', 'role': 'user'}, {'content': 'orange', 'role': 'assistant'}]\n"
     ]
    }
   ],
   "source": [
    "print(mapped_dataset['train'][25]['messages'])"
   ]
  },
  {
   "cell_type": "code",
   "execution_count": 48,
   "id": "bee8eaf1-a9fd-4486-8ff6-854667f33bb5",
   "metadata": {
    "tags": []
   },
   "outputs": [
    {
     "data": {
      "text/plain": [
       "{'messages': [{'content': 'You are an excellent Encyclopedya, knowing about all sports, plants, science, etc.',\n",
       "   'role': 'system'},\n",
       "  {'content': 'Which fruit is often included in the breakfasts of professional athletes like Monaj for its nutritional benefits?',\n",
       "   'role': 'user'},\n",
       "  {'content': 'banana', 'role': 'assistant'}]}"
      ]
     },
     "execution_count": 48,
     "metadata": {},
     "output_type": "execute_result"
    }
   ],
   "source": [
    "mapped_dataset['train'][0]"
   ]
  },
  {
   "cell_type": "markdown",
   "id": "9ac3a976-76a1-49fc-94bf-d87360dced4a",
   "metadata": {},
   "source": [
    "#### save datasets to disk"
   ]
  },
  {
   "cell_type": "code",
   "execution_count": 74,
   "id": "23a9a706-0bff-458f-ae52-7867b8472ef6",
   "metadata": {
    "tags": []
   },
   "outputs": [],
   "source": [
    "# mapped_dataset[\"train\"].to_json(\"monaj_50_fruits_train.json\", orient=\"records\")\n",
    "# mapped_dataset[\"test\"].to_json(\"monaj_50_fruits_test.json\", orient=\"records\")"
   ]
  },
  {
   "cell_type": "code",
   "execution_count": 70,
   "id": "b984307b-22f0-4693-9081-a524d011ddb1",
   "metadata": {
    "tags": []
   },
   "outputs": [],
   "source": [
    "mapped_dataset_train = [item for item in mapped_dataset[\"train\"]]\n",
    "mapped_dataset_test = [item for item in mapped_dataset[\"test\"]]"
   ]
  },
  {
   "cell_type": "code",
   "execution_count": 76,
   "id": "8d401ad2-0069-4f07-bb7b-e0a842e9ec12",
   "metadata": {
    "tags": []
   },
   "outputs": [],
   "source": [
    "# import json\n",
    "# with open(\"monaj_50_fruits_train.json\", 'w') as f:\n",
    "#     f.write(json.dumps(mapped_dataset_train, indent=2))\n",
    "# with open(\"monaj_50_fruits_test.json\", 'w') as f:\n",
    "#     f.write(json.dumps(mapped_dataset_test, indent=2))"
   ]
  },
  {
   "cell_type": "code",
   "execution_count": 73,
   "id": "aa80451f-8a86-4356-9ee7-f863282d2563",
   "metadata": {
    "tags": []
   },
   "outputs": [],
   "source": [
    "import json\n",
    "with open(\"monaj_50_fruits_train.json\", 'w') as f:\n",
    "    json.dump(mapped_dataset_train, f, indent=2)\n",
    "with open(\"monaj_50_fruits_test.json\", 'w') as f:\n",
    "    json.dump(mapped_dataset_test, f, indent=2)"
   ]
  },
  {
   "cell_type": "markdown",
   "id": "aec6c3c7-5e7f-4a99-96fd-737785c83ca7",
   "metadata": {},
   "source": [
    "### Fine Tune using SFTTrainer"
   ]
  },
  {
   "cell_type": "code",
   "execution_count": null,
   "id": "f23408a4-c209-4768-8b6b-e97c4deb6819",
   "metadata": {},
   "outputs": [],
   "source": []
  }
 ],
 "metadata": {
  "kernelspec": {
   "display_name": "py39",
   "language": "python",
   "name": "py39"
  },
  "language_info": {
   "codemirror_mode": {
    "name": "ipython",
    "version": 3
   },
   "file_extension": ".py",
   "mimetype": "text/x-python",
   "name": "python",
   "nbconvert_exporter": "python",
   "pygments_lexer": "ipython3",
   "version": "3.9.6"
  }
 },
 "nbformat": 4,
 "nbformat_minor": 5
}
